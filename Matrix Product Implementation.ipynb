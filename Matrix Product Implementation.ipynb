{
 "cells": [
  {
   "cell_type": "markdown",
   "metadata": {
    "id": "Rq5p2SZEMIZ-"
   },
   "source": [
    "## [Problem 1] Matrix product is calculated manually"
   ]
  },
  {
   "cell_type": "markdown",
   "metadata": {
    "id": "yY6xhPAYMIaM"
   },
   "source": [
    "$$A =\\begin{bmatrix}-1 & 2 & 3\\\\\n",
    "4 & -5 & 6\\\\7 & 8 & -9\\end{bmatrix}$$,$$B =\\begin{bmatrix}0 & 2 & 1\\\\0 & 2 & -8\\\\2 & 9 & -1\\end{bmatrix}$$,\n",
    "$$AB =\\begin{bmatrix}0+0+6 & -2+4+27 & -1+(-16)+(-3)\\\\0+0+12 & 8+(-10)+54 & 4+40+(-6)\\\\0+0+(-18) & 14+16+(-81) & 7+(-64)+(-9)\\end{bmatrix}$$,$$AB =\\begin{bmatrix}6 & 29 & -20\\\\12 & 52 & 38\\\\-18 & -51 & -48\\end{bmatrix}$$"
   ]
  },
  {
   "cell_type": "markdown",
   "metadata": {
    "id": "OhoqxJtIMIaP"
   },
   "source": [
    "## [Problem 2] Calculation by NumPy function"
   ]
  },
  {
   "cell_type": "code",
   "execution_count": 12,
   "metadata": {
    "colab": {
     "base_uri": "https://localhost:8080/"
    },
    "executionInfo": {
     "elapsed": 15,
     "status": "ok",
     "timestamp": 1673887137201,
     "user": {
      "displayName": "Sesay Sahr B.",
      "userId": "13579209177438430624"
     },
     "user_tz": 0
    },
    "id": "SA0aHVfaMIaR",
    "outputId": "17809481-51f3-4867-a95c-59a159ef24ff"
   },
   "outputs": [
    {
     "name": "stdout",
     "output_type": "stream",
     "text": [
      "[[  6  29 -20]\n",
      " [ 12  52  38]\n",
      " [-18 -51 -48]]\n"
     ]
    }
   ],
   "source": [
    "#USING MATMUL()\n",
    "import numpy as np\n",
    "a_ndarray = np.array([[-1, 2, 3], [4, -5, 6], [7, 8, -9]])\n",
    "b_ndarray = np.array([[0, 2, 1], [0, 2, -8], [2, 9, -1]])\n",
    "ab_ndarray = np.matmul(a_ndarray, b_ndarray)\n",
    "print(ab_ndarray)"
   ]
  },
  {
   "cell_type": "code",
   "execution_count": 13,
   "metadata": {
    "colab": {
     "base_uri": "https://localhost:8080/"
    },
    "executionInfo": {
     "elapsed": 24,
     "status": "ok",
     "timestamp": 1673887141784,
     "user": {
      "displayName": "Sesay Sahr B.",
      "userId": "13579209177438430624"
     },
     "user_tz": 0
    },
    "id": "1pL7QyVEMIaZ",
    "outputId": "71aa86ec-ee4e-414e-ba6b-eebc386c35dc"
   },
   "outputs": [
    {
     "name": "stdout",
     "output_type": "stream",
     "text": [
      "[[  6  29 -20]\n",
      " [ 12  52  38]\n",
      " [-18 -51 -48]]\n"
     ]
    }
   ],
   "source": [
    "#using dot()\n",
    "a_ndarray = np.array([[-1, 2, 3], [4, -5, 6], [7, 8, -9]])\n",
    "b_ndarray = np.array([[0, 2, 1], [0, 2, -8], [2, 9, -1]])\n",
    "ab_ndarray = np.dot(a_ndarray, b_ndarray)\n",
    "print(ab_ndarray)"
   ]
  },
  {
   "cell_type": "markdown",
   "metadata": {
    "id": "c4PN_9qMMIad"
   },
   "source": [
    "### [Problem 3] Implementation of calculation of a certain element"
   ]
  },
  {
   "cell_type": "markdown",
   "metadata": {
    "id": "2QBG-EXaMIaf"
   },
   "source": [
    "1.\tMultiply the (0,0) element $a_{0, 0}$ of matrix A with the (0,0) element $b_{0, 0}$ of matrix B"
   ]
  },
  {
   "cell_type": "code",
   "execution_count": 14,
   "metadata": {
    "colab": {
     "base_uri": "https://localhost:8080/"
    },
    "executionInfo": {
     "elapsed": 371,
     "status": "ok",
     "timestamp": 1673887149533,
     "user": {
      "displayName": "Sesay Sahr B.",
      "userId": "13579209177438430624"
     },
     "user_tz": 0
    },
    "id": "jh0MbyhJMIah",
    "outputId": "86de659f-c095-488c-9238-637bf70e8a31"
   },
   "outputs": [
    {
     "data": {
      "text/plain": [
       "0"
      ]
     },
     "execution_count": 14,
     "metadata": {},
     "output_type": "execute_result"
    }
   ],
   "source": [
    "ab = (a_ndarray[0][0]*b_ndarray[0][0])\n",
    "ab"
   ]
  },
  {
   "cell_type": "code",
   "execution_count": 10,
   "metadata": {
    "colab": {
     "base_uri": "https://localhost:8080/"
    },
    "executionInfo": {
     "elapsed": 387,
     "status": "ok",
     "timestamp": 1673887126487,
     "user": {
      "displayName": "Sesay Sahr B.",
      "userId": "13579209177438430624"
     },
     "user_tz": 0
    },
    "id": "37rcv4FHZJSZ",
    "outputId": "6e419f07-c9a2-47ee-b171-4127c7fe3a38"
   },
   "outputs": [
    {
     "data": {
      "text/plain": [
       "6"
      ]
     },
     "execution_count": 10,
     "metadata": {},
     "output_type": "execute_result"
    }
   ],
   "source": [
    "a1 = a_ndarray[0][2]\n",
    "b1 = b_ndarray[2][0]\n",
    "a1*b1"
   ]
  },
  {
   "cell_type": "markdown",
   "metadata": {
    "id": "mQzWhVUiMIak"
   },
   "source": [
    "2.\tMultiply the (0,1) element $a_{0, 1}$ of matrix A with the (1,0) element $b_{1, 0}$ of matrix B"
   ]
  },
  {
   "cell_type": "code",
   "execution_count": null,
   "metadata": {
    "id": "FgdNaoR2MIam",
    "outputId": "12ba805b-086b-4a65-8bed-e547a2c142f6"
   },
   "outputs": [
    {
     "data": {
      "text/plain": [
       "0"
      ]
     },
     "execution_count": 70,
     "metadata": {},
     "output_type": "execute_result"
    }
   ],
   "source": [
    "ab = (a_ndarray[0][1]*b_ndarray[1][0])\n",
    "ab"
   ]
  },
  {
   "cell_type": "markdown",
   "metadata": {
    "id": "wQ9mKErxMIaq"
   },
   "source": [
    "3.\tMultiply the (0,2) element $a_{0, 2}$ of matrix A with the (2,0) element $b_{2, 0}$ of matrix B"
   ]
  },
  {
   "cell_type": "code",
   "execution_count": null,
   "metadata": {
    "id": "RvguP5nuMIau",
    "outputId": "a8b875bf-9e63-450c-db5f-80431bc64120"
   },
   "outputs": [
    {
     "data": {
      "text/plain": [
       "6"
      ]
     },
     "execution_count": 71,
     "metadata": {},
     "output_type": "execute_result"
    }
   ],
   "source": [
    "ab = (a_ndarray[0][2]*b_ndarray[2][0])\n",
    "ab"
   ]
  },
  {
   "cell_type": "markdown",
   "metadata": {
    "id": "fji-d2QGMIaw"
   },
   "source": [
    "4.\tAdd all those values"
   ]
  },
  {
   "cell_type": "code",
   "execution_count": null,
   "metadata": {
    "id": "5fOUXmr7MIay",
    "outputId": "692dec9e-056c-4651-aa36-ee9b909000a8"
   },
   "outputs": [
    {
     "data": {
      "text/plain": [
       "6"
      ]
     },
     "execution_count": 72,
     "metadata": {},
     "output_type": "execute_result"
    }
   ],
   "source": [
    "sum_ab = (a_ndarray[0][0]*b_ndarray[0][0])+(a_ndarray[0][1]*b_ndarray[1][0])+(a_ndarray[0][2]*b_ndarray[2][0])\n",
    "\n",
    "sum_ab"
   ]
  },
  {
   "cell_type": "markdown",
   "metadata": {
    "id": "xCg5Zg6RMIa0"
   },
   "source": [
    "#### [Problem 4] Creating a function that performs matrix multiplication"
   ]
  },
  {
   "cell_type": "code",
   "execution_count": null,
   "metadata": {
    "id": "iTtpkDyYMIa1",
    "outputId": "6935675e-e234-46e3-fc4f-a9ff1a544952"
   },
   "outputs": [
    {
     "name": "stdout",
     "output_type": "stream",
     "text": [
      "[[  6.  29. -20.]\n",
      " [ 12.  52.  38.]\n",
      " [-18. -51. -48.]]\n"
     ]
    }
   ],
   "source": [
    "def product_of_matrix(a, b):\n",
    "    matrix_ab = np.empty([3,3])\n",
    "    for row1 in range(a.shape[0]):\n",
    "        for column1 in range(b.shape[1]):\n",
    "            matrix_ab[row1][column1] = sum(a[row1, :]*b[:, column1])\n",
    "    return matrix_ab\n",
    "print(product_of_matrix(a_ndarray, b_ndarray))"
   ]
  },
  {
   "cell_type": "markdown",
   "metadata": {
    "id": "efiBogMeMIa5"
   },
   "source": [
    "### [Problem 5] Judge the input whose calculation is not defined"
   ]
  },
  {
   "cell_type": "code",
   "execution_count": 15,
   "metadata": {
    "colab": {
     "base_uri": "https://localhost:8080/"
    },
    "executionInfo": {
     "elapsed": 369,
     "status": "ok",
     "timestamp": 1673887832907,
     "user": {
      "displayName": "Sesay Sahr B.",
      "userId": "13579209177438430624"
     },
     "user_tz": 0
    },
    "id": "p5BPabzSMIa9",
    "outputId": "de1f52d0-f28d-4efd-8aa7-333e9f40edb8"
   },
   "outputs": [
    {
     "name": "stdout",
     "output_type": "stream",
     "text": [
      "matrices are not aligned\n"
     ]
    }
   ],
   "source": [
    "d_ndarray = np.array([[-1, 2, 3], [4, -5, 6]])\n",
    "e_ndarray = np.array([[-9, 8, 7], [6, -5, 4]])\n",
    "if d_ndarray.shape[0] == e_ndarray.shape[1]:\n",
    "    print(product_of_matrix(d_ndarray, e_ndarray))\n",
    "else:\n",
    "    print(\"matrices are not aligned\")\n"
   ]
  },
  {
   "cell_type": "code",
   "execution_count": 16,
   "metadata": {
    "colab": {
     "base_uri": "https://localhost:8080/"
    },
    "executionInfo": {
     "elapsed": 423,
     "status": "ok",
     "timestamp": 1673888321478,
     "user": {
      "displayName": "Sesay Sahr B.",
      "userId": "13579209177438430624"
     },
     "user_tz": 0
    },
    "id": "-8gj5SZohLbg",
    "outputId": "d3728f4c-4466-4c77-c827-9090f46df684"
   },
   "outputs": [
    {
     "data": {
      "text/plain": [
       "2"
      ]
     },
     "execution_count": 16,
     "metadata": {},
     "output_type": "execute_result"
    }
   ],
   "source": [
    "d_ndarray.shape[0]"
   ]
  },
  {
   "cell_type": "markdown",
   "metadata": {
    "id": "197A0iO5MIa_"
   },
   "source": [
    "## [Problem 6] Transposition"
   ]
  },
  {
   "cell_type": "code",
   "execution_count": null,
   "metadata": {
    "id": "LgBXriaqMIbA",
    "outputId": "de7e801e-298f-478c-abe1-221661247be4"
   },
   "outputs": [
    {
     "name": "stdout",
     "output_type": "stream",
     "text": [
      "[[ 33. -28.   9.]\n",
      " [-48.  41.  -6.]\n",
      " [  9.  -6.  45.]]\n"
     ]
    }
   ],
   "source": [
    "z = d_ndarray.T\n",
    "print(product_of_matrix(z, e_ndarray))"
   ]
  },
  {
   "cell_type": "code",
   "execution_count": null,
   "metadata": {
    "id": "DUo-9gpIMIbD"
   },
   "outputs": [],
   "source": []
  }
 ],
 "metadata": {
  "colab": {
   "provenance": []
  },
  "kernelspec": {
   "display_name": "Python 3 (ipykernel)",
   "language": "python",
   "name": "python3"
  },
  "language_info": {
   "codemirror_mode": {
    "name": "ipython",
    "version": 3
   },
   "file_extension": ".py",
   "mimetype": "text/x-python",
   "name": "python",
   "nbconvert_exporter": "python",
   "pygments_lexer": "ipython3",
   "version": "3.8.10"
  }
 },
 "nbformat": 4,
 "nbformat_minor": 1
}
