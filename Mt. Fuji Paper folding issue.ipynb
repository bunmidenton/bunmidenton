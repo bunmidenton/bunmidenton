{
 "cells": [
  {
   "cell_type": "markdown",
   "metadata": {
    "id": "Z2lxbCvhsd_1"
   },
   "source": [
    "# [Problem 1] Minimum number of folds over Mt. Fuji"
   ]
  },
  {
   "cell_type": "code",
   "execution_count": null,
   "metadata": {
    "colab": {
     "base_uri": "https://localhost:8080/"
    },
    "executionInfo": {
     "elapsed": 6,
     "status": "ok",
     "timestamp": 1671681195694,
     "user": {
      "displayName": "Sesay Sahr B.",
      "userId": "13579209177438430624"
     },
     "user_tz": 0
    },
    "id": "5e--nGUasd_9",
    "outputId": "0afa7b03-17d5-40a7-dbe7-1946eb168c50"
   },
   "outputs": [
    {
     "name": "stdout",
     "output_type": "stream",
     "text": [
      "26\n"
     ]
    }
   ],
   "source": [
    "MOUNT_FUJI = 3776\n",
    "THICKNESS = 0.00008\n",
    "\n",
    "def folds_exceed_height(height=1000, thickness=0.00008):\n",
    "    if height < thickness:\n",
    "        return 0\n",
    "    folded_thickness = 0\n",
    "    i = 0\n",
    "    while height > folded_thickness:\n",
    "        i  += 1\n",
    "        folded_thickness = thickness * 2 ** i\n",
    "    return i\n",
    "\n",
    "print(folds_exceed_height(MOUNT_FUJI ,THICKNESS))"
   ]
  },
  {
   "cell_type": "code",
   "execution_count": null,
   "metadata": {
    "id": "SU1PFkqrsd__"
   },
   "outputs": [],
   "source": []
  },
  {
   "cell_type": "markdown",
   "metadata": {
    "id": "wpRWPMS9sd__"
   },
   "source": [
    "# [Problem 2] Creating a function corresponding to an arbitrary thickness"
   ]
  },
  {
   "cell_type": "code",
   "execution_count": null,
   "metadata": {
    "colab": {
     "base_uri": "https://localhost:8080/"
    },
    "executionInfo": {
     "elapsed": 10501,
     "status": "ok",
     "timestamp": 1671728607947,
     "user": {
      "displayName": "Sesay Sahr B.",
      "userId": "13579209177438430624"
     },
     "user_tz": 0
    },
    "id": "IVHaUkI5seAA",
    "outputId": "b0103f75-83e1-4160-a71f-a27e7ef0df0d"
   },
   "outputs": [
    {
     "name": "stdout",
     "output_type": "stream",
     "text": [
      "Enter the Distance: 3245678900\n",
      "The number of folds is:  45 Times\n"
     ]
    }
   ],
   "source": [
    "#The program allow input from the user\n",
    "import math\n",
    "thickness = 0.00008\n",
    "def num_of_fold(distance):\n",
    "    num_of_folds = math.log(distance/thickness)/ math.log(2)\n",
    "    return num_of_folds\n",
    "num_of_folds = num_of_fold(distance = float(input(\"Enter the Distance: \")))\n",
    "print(\"The number of folds is: \", round(num_of_folds), \"Times\")   "
   ]
  },
  {
   "cell_type": "code",
   "execution_count": null,
   "metadata": {
    "colab": {
     "base_uri": "https://localhost:8080/"
    },
    "executionInfo": {
     "elapsed": 785,
     "status": "ok",
     "timestamp": 1671682178219,
     "user": {
      "displayName": "Sesay Sahr B.",
      "userId": "13579209177438430624"
     },
     "user_tz": 0
    },
    "id": "hETgPOfKBXo0",
    "outputId": "ff4c4962-1ed5-4d71-94f0-bfd6246253bf"
   },
   "outputs": [
    {
     "data": {
      "text/plain": [
       "0.6931471805599453"
      ]
     },
     "execution_count": 3,
     "metadata": {},
     "output_type": "execute_result"
    }
   ],
   "source": [
    "math.log(2)"
   ]
  },
  {
   "cell_type": "markdown",
   "metadata": {
    "id": "srLBfpdMseAA"
   },
   "source": [
    "# calculate how many times you have to bend the paper to reach the \"closest non-Sun star."
   ]
  },
  {
   "cell_type": "markdown",
   "metadata": {
    "id": "cmK65MDvseAB"
   },
   "source": [
    "Proxima centauri is the the closest star to earth with a distance of 4,208,000,000,000 km."
   ]
  },
  {
   "cell_type": "code",
   "execution_count": null,
   "metadata": {
    "id": "KOezI-pBseAC"
   },
   "outputs": [],
   "source": []
  },
  {
   "cell_type": "code",
   "execution_count": null,
   "metadata": {
    "colab": {
     "base_uri": "https://localhost:8080/"
    },
    "executionInfo": {
     "elapsed": 531,
     "status": "ok",
     "timestamp": 1671684181789,
     "user": {
      "displayName": "Sesay Sahr B.",
      "userId": "13579209177438430624"
     },
     "user_tz": 0
    },
    "id": "liRCkIxKseAC",
    "outputId": "bc7fb9fe-53c2-450f-c7dd-bc0d7d693aa8"
   },
   "outputs": [
    {
     "name": "stdout",
     "output_type": "stream",
     "text": [
      "The number of folds is:  56 times\n"
     ]
    }
   ],
   "source": [
    "import math\n",
    "thickness = 0.00008\n",
    "def num_of_fold(distance):\n",
    "    num_of_folds = math.log(distance/thickness)/ math.log(2)\n",
    "    return num_of_folds\n",
    "num_of_folds = num_of_fold(distance = 4208000000000)\n",
    "print(\"The number of folds is: \", round(num_of_folds), \"times\")"
   ]
  },
  {
   "cell_type": "markdown",
   "metadata": {
    "id": "Uh-9UMg_seAD"
   },
   "source": [
    "# [Problem 3] Required paper length"
   ]
  },
  {
   "cell_type": "code",
   "execution_count": null,
   "metadata": {
    "id": "lv65hgI7seAE"
   },
   "outputs": [],
   "source": [
    "import math\n",
    "\n",
    "def required_length(number_of_fold, thickness=0.00008):\n",
    "    length = (math.pi * thickness  * (2**number_of_fold + 4) * (2**number_of_fold -1)) / 6\n",
    "    return int(length)\n",
    "\n",
    "print(required_length(\n",
    "    folds_exceed_height(MOUNT_FUJI ,THICKNESS)#FUNCTION FROM PROBLEM ONE\n",
    "))"
   ]
  },
  {
   "cell_type": "markdown",
   "metadata": {
    "id": "_drwQ0lXseAF"
   },
   "source": [
    "## THE LENGTH OF THE PAPER NEEDED TO REACH THE MOON"
   ]
  },
  {
   "cell_type": "code",
   "execution_count": null,
   "metadata": {
    "colab": {
     "base_uri": "https://localhost:8080/"
    },
    "executionInfo": {
     "elapsed": 402,
     "status": "ok",
     "timestamp": 1671684639022,
     "user": {
      "displayName": "Sesay Sahr B.",
      "userId": "13579209177438430624"
     },
     "user_tz": 0
    },
    "id": "uUFrmlNlseAF",
    "outputId": "82bc2a0c-5455-4715-eb07-583636e5bc34"
   },
   "outputs": [
    {
     "name": "stdout",
     "output_type": "stream",
     "text": [
      "3090781636525682\n"
     ]
    }
   ],
   "source": [
    "import math\n",
    "moon = 384400\n",
    "def required_length(number_of_fold, thickness=0.00008):\n",
    "    length = (math.pi * thickness  * (2**number_of_fold + 4) * (2**number_of_fold -1)) / 6\n",
    "    return int(length)\n",
    "\n",
    "print(required_length(\n",
    "    folds_exceed_height(moon ,THICKNESS)#FUNCTION FROM PROBLEM ONE\n",
    "))\n"
   ]
  },
  {
   "cell_type": "code",
   "execution_count": null,
   "metadata": {
    "colab": {
     "base_uri": "https://localhost:8080/"
    },
    "executionInfo": {
     "elapsed": 413,
     "status": "ok",
     "timestamp": 1671684643315,
     "user": {
      "displayName": "Sesay Sahr B.",
      "userId": "13579209177438430624"
     },
     "user_tz": 0
    },
    "id": "ttrIzku3seAG",
    "outputId": "b81b2e56-f833-4b80-e69f-980d58a9f962"
   },
   "outputs": [
    {
     "name": "stdout",
     "output_type": "stream",
     "text": [
      "13919643021679256423558956449792\n"
     ]
    }
   ],
   "source": [
    "alpha_centauri = 39924000000000\n",
    "def required_length(number_of_fold, thickness=0.00008):\n",
    "    length = (math.pi * thickness  * (2**number_of_fold + 4) * (2**number_of_fold -1)) / 6\n",
    "    return int(length)\n",
    "\n",
    "print(required_length(\n",
    "    folds_exceed_height(alpha_centauri ,THICKNESS)#FUNCTION FROM PROBLEM ONE\n",
    "))\n"
   ]
  },
  {
   "cell_type": "code",
   "execution_count": null,
   "metadata": {
    "id": "9iKiu5gOseAG"
   },
   "outputs": [],
   "source": []
  }
 ],
 "metadata": {
  "colab": {
   "provenance": []
  },
  "kernelspec": {
   "display_name": "Python 3 (ipykernel)",
   "language": "python",
   "name": "python3"
  },
  "language_info": {
   "codemirror_mode": {
    "name": "ipython",
    "version": 3
   },
   "file_extension": ".py",
   "mimetype": "text/x-python",
   "name": "python",
   "nbconvert_exporter": "python",
   "pygments_lexer": "ipython3",
   "version": "3.8.10"
  }
 },
 "nbformat": 4,
 "nbformat_minor": 1
}
