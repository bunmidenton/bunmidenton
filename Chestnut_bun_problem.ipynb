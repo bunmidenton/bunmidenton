{
 "cells": [
  {
   "cell_type": "markdown",
   "metadata": {
    "id": "5_-sWa1exaWi"
   },
   "source": [
    "The chestnut bun problem"
   ]
  },
  {
   "cell_type": "code",
   "execution_count": 5,
   "metadata": {
    "colab": {
     "base_uri": "https://localhost:8080/"
    },
    "executionInfo": {
     "elapsed": 51,
     "status": "ok",
     "timestamp": 1672164595682,
     "user": {
      "displayName": "Sesay Sahr B.",
      "userId": "13579209177438430624"
     },
     "user_tz": 0
    },
    "id": "PcZIEHgExaWn",
    "outputId": "71e9e197-7e02-4b76-bd69-55400a9d3030"
   },
   "outputs": [
    {
     "name": "stdout",
     "output_type": "stream",
     "text": [
      "885\n"
     ]
    }
   ],
   "source": [
    "import math\n",
    "chestnut_cake = 6 * 4 * 3 /1000000\n",
    "solar_system = math.pi * 3 * (15 * 10 **15)**3 / 4\n",
    "\n",
    "def minutes_covering(original_size, sprinkle_size):\n",
    "    count = 0\n",
    "    while original_size < sprinkle_size:\n",
    "        \n",
    "        original_size *= 2\n",
    "        count += 1\n",
    "    minute = count * 5   \n",
    "    return minute\n",
    "\n",
    "\n",
    "print(minutes_covering(chestnut_cake, solar_system))\n",
    "#minutes_covering(chestnut_cake, solar_system)"
   ]
  },
  {
   "cell_type": "markdown",
   "metadata": {
    "id": "YhmHQ_9jxaWq"
   },
   "source": [
    "THE TIME IT TAKE FOR THE TOKYO DOME TO FILL UP"
   ]
  },
  {
   "cell_type": "code",
   "execution_count": 6,
   "metadata": {
    "colab": {
     "base_uri": "https://localhost:8080/"
    },
    "executionInfo": {
     "elapsed": 518,
     "status": "ok",
     "timestamp": 1672164601212,
     "user": {
      "displayName": "Sesay Sahr B.",
      "userId": "13579209177438430624"
     },
     "user_tz": 0
    },
    "id": "YLBoMkeoxaWq",
    "outputId": "1e508712-7f8e-4418-822f-68a8221bb499"
   },
   "outputs": [
    {
     "name": "stdout",
     "output_type": "stream",
     "text": [
      "175 minutes\n"
     ]
    }
   ],
   "source": [
    "tokyo_dome = 1240000 \n",
    "print(\"{} minutes\" .format(minutes_covering(chestnut_cake, tokyo_dome)))"
   ]
  },
  {
   "cell_type": "code",
   "execution_count": null,
   "metadata": {
    "id": "9_lxlKpkxaWr"
   },
   "outputs": [],
   "source": []
  }
 ],
 "metadata": {
  "colab": {
   "provenance": []
  },
  "kernelspec": {
   "display_name": "Python 3 (ipykernel)",
   "language": "python",
   "name": "python3"
  },
  "language_info": {
   "codemirror_mode": {
    "name": "ipython",
    "version": 3
   },
   "file_extension": ".py",
   "mimetype": "text/x-python",
   "name": "python",
   "nbconvert_exporter": "python",
   "pygments_lexer": "ipython3",
   "version": "3.8.10"
  }
 },
 "nbformat": 4,
 "nbformat_minor": 1
}
